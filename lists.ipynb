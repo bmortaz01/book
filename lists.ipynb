{
 "cells": [
  {
   "cell_type": "code",
   "execution_count": 6,
   "id": "fb8a7948",
   "metadata": {},
   "outputs": [
    {
     "name": "stdout",
     "output_type": "stream",
     "text": [
      "[0, 2, 3, 2, 1, 2, 3, 9]\n",
      "3\n"
     ]
    }
   ],
   "source": [
    "str = \"Hello\"\n",
    "x = [2, 1, 2, 3]\n",
    "y = ['first', 'second', 'third', 'fourth']\n",
    "a = x[-2:]\n",
    "a.extend(x)\n",
    "x.append(4)\n",
    "a.insert(0, 0)\n",
    "a.insert(len(a), 9)\n",
    "print(a)\n",
    "print(a.count(2))\n",
    "a.remove(2)\n",
    "a.sort()"
   ]
  },
  {
   "cell_type": "code",
   "execution_count": 2,
   "id": "45ec8908",
   "metadata": {},
   "outputs": [
    {
     "name": "stdout",
     "output_type": "stream",
     "text": [
      "['third', 'fourth']\n",
      "[2, 1, 2, 3, 4]\n",
      "['first', 'second', 'third', 'fourth']\n"
     ]
    }
   ],
   "source": [
    "print(y[2:])\n",
    "print(x)\n",
    "print(y)"
   ]
  },
  {
   "cell_type": "code",
   "execution_count": 22,
   "id": "5af92df0",
   "metadata": {},
   "outputs": [
    {
     "name": "stdout",
     "output_type": "stream",
     "text": [
      "len(x)=5, len(y)=4\n",
      "5, 1, 0, 2\n",
      "str[0]=H str[1]=e str[2]=l str[3]=l str[4]=o \n",
      " len('Hello')=5\n"
     ]
    }
   ],
   "source": [
    "print('len(x)=%d, len(y)=%d' % (len(x), len(y)))\n",
    "print('%d, %d, %d, %d' % (len(x), len([0]), len([]), len([[1, 3, [4, 5], 6], 7])))\n",
    "for i, s in enumerate(str): print(f'str[%d]=%s ' % (i, s), end=\"\")\n",
    "print(\"\\n len(\\'%s\\')=%d\" % (str, len(str)))"
   ]
  }
 ],
 "metadata": {
  "kernelspec": {
   "display_name": "Python 3",
   "language": "python",
   "name": "python3"
  },
  "language_info": {
   "codemirror_mode": {
    "name": "ipython",
    "version": 3
   },
   "file_extension": ".py",
   "mimetype": "text/x-python",
   "name": "python",
   "nbconvert_exporter": "python",
   "pygments_lexer": "ipython3",
   "version": "3.12.10"
  }
 },
 "nbformat": 4,
 "nbformat_minor": 5
}
